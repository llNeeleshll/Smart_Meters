{
 "cells": [
  {
   "cell_type": "code",
   "execution_count": 7,
   "metadata": {},
   "outputs": [],
   "source": [
    "import os\n",
    "import torch \n",
    "import torch.nn as nn\n",
    "import torchvision.transforms as transforms\n",
    "from torch.nn.modules.container import Sequential\n",
    "import torch.optim as optim\n",
    "import matplotlib.pyplot as plt\n",
    "import pandas as pd\n",
    "from torchvision import datasets\n",
    "from torch.utils.data import DataLoader\n",
    "import numpy as np\n",
    "import datetime"
   ]
  },
  {
   "cell_type": "code",
   "execution_count": 2,
   "metadata": {},
   "outputs": [],
   "source": [
    "device  = \"cuda\" if torch.cuda.is_available() else \"cpu\""
   ]
  },
  {
   "cell_type": "code",
   "execution_count": 3,
   "metadata": {},
   "outputs": [],
   "source": [
    "df = pd.read_csv(r'C:\\Users\\neele\\OneDrive\\Documents\\Dataset\\Smart_Meters\\archive\\halfhourly_dataset\\halfhourly_dataset\\block_0.csv', parse_dates=['tstp'])"
   ]
  },
  {
   "cell_type": "code",
   "execution_count": 5,
   "metadata": {},
   "outputs": [],
   "source": [
    "df['energy(kWh/hh)'] = df['energy(kWh/hh)'].replace('Null', 0)\n",
    "df['energy(kWh/hh)'] = df['energy(kWh/hh)'].astype(float)"
   ]
  },
  {
   "cell_type": "code",
   "execution_count": 6,
   "metadata": {},
   "outputs": [
    {
     "data": {
      "text/html": [
       "<div>\n",
       "<style scoped>\n",
       "    .dataframe tbody tr th:only-of-type {\n",
       "        vertical-align: middle;\n",
       "    }\n",
       "\n",
       "    .dataframe tbody tr th {\n",
       "        vertical-align: top;\n",
       "    }\n",
       "\n",
       "    .dataframe thead th {\n",
       "        text-align: right;\n",
       "    }\n",
       "</style>\n",
       "<table border=\"1\" class=\"dataframe\">\n",
       "  <thead>\n",
       "    <tr style=\"text-align: right;\">\n",
       "      <th></th>\n",
       "      <th>LCLid</th>\n",
       "      <th>tstp</th>\n",
       "      <th>energy(kWh/hh)</th>\n",
       "    </tr>\n",
       "  </thead>\n",
       "  <tbody>\n",
       "    <tr>\n",
       "      <th>0</th>\n",
       "      <td>MAC000002</td>\n",
       "      <td>2012-10-12 00:30:00</td>\n",
       "      <td>0.0</td>\n",
       "    </tr>\n",
       "    <tr>\n",
       "      <th>1</th>\n",
       "      <td>MAC000002</td>\n",
       "      <td>2012-10-12 01:00:00</td>\n",
       "      <td>0.0</td>\n",
       "    </tr>\n",
       "    <tr>\n",
       "      <th>2</th>\n",
       "      <td>MAC000002</td>\n",
       "      <td>2012-10-12 01:30:00</td>\n",
       "      <td>0.0</td>\n",
       "    </tr>\n",
       "    <tr>\n",
       "      <th>3</th>\n",
       "      <td>MAC000002</td>\n",
       "      <td>2012-10-12 02:00:00</td>\n",
       "      <td>0.0</td>\n",
       "    </tr>\n",
       "    <tr>\n",
       "      <th>4</th>\n",
       "      <td>MAC000002</td>\n",
       "      <td>2012-10-12 02:30:00</td>\n",
       "      <td>0.0</td>\n",
       "    </tr>\n",
       "  </tbody>\n",
       "</table>\n",
       "</div>"
      ],
      "text/plain": [
       "       LCLid                tstp  energy(kWh/hh)\n",
       "0  MAC000002 2012-10-12 00:30:00             0.0\n",
       "1  MAC000002 2012-10-12 01:00:00             0.0\n",
       "2  MAC000002 2012-10-12 01:30:00             0.0\n",
       "3  MAC000002 2012-10-12 02:00:00             0.0\n",
       "4  MAC000002 2012-10-12 02:30:00             0.0"
      ]
     },
     "execution_count": 6,
     "metadata": {},
     "output_type": "execute_result"
    }
   ],
   "source": [
    "df.head()"
   ]
  },
  {
   "cell_type": "code",
   "execution_count": 10,
   "metadata": {},
   "outputs": [],
   "source": [
    "df_train = df[(df['tstp'] > datetime.datetime(2013,1,1)) & (df['tstp'] < datetime.datetime(2014,1,1)) & (df['LCLid'] == \"MAC000002\")]\n",
    "df_test = df[(df['tstp'] > datetime.datetime(2014,1,1)) & (df['LCLid'] == \"MAC000002\")]"
   ]
  },
  {
   "cell_type": "code",
   "execution_count": 14,
   "metadata": {},
   "outputs": [
    {
     "name": "stdout",
     "output_type": "stream",
     "text": [
      "Number of training examples :  17519\n"
     ]
    }
   ],
   "source": [
    "training_mean = df_train['energy(kWh/hh)'].mean()\n",
    "training_std = df_train['energy(kWh/hh)'].std()\n",
    "\n",
    "df_training_values = (df_train['energy(kWh/hh)'] - training_mean) / training_std\n",
    "\n",
    "print(\"Number of training examples : \", len(df_training_values))"
   ]
  },
  {
   "cell_type": "code",
   "execution_count": 15,
   "metadata": {},
   "outputs": [
    {
     "name": "stdout",
     "output_type": "stream",
     "text": [
      "Number of training examples :  2783\n"
     ]
    }
   ],
   "source": [
    "test_mean = df_test['energy(kWh/hh)'].mean()\n",
    "test_std = df_test['energy(kWh/hh)'].std()\n",
    "\n",
    "df_testing_values = (df_test['energy(kWh/hh)'] - test_mean) / test_std\n",
    "\n",
    "print(\"Number of training examples : \", len(df_testing_values))"
   ]
  },
  {
   "cell_type": "code",
   "execution_count": 16,
   "metadata": {},
   "outputs": [],
   "source": [
    "def create_sequences(values, time_step = 48):\n",
    "    \n",
    "    output = []\n",
    "\n",
    "    for i in range(0, len(values) - time_step+1, time_step):\n",
    "        output.append(values[i:(i+time_step)])\n",
    "\n",
    "    return np.stack(output)"
   ]
  },
  {
   "cell_type": "code",
   "execution_count": 17,
   "metadata": {},
   "outputs": [
    {
     "name": "stdout",
     "output_type": "stream",
     "text": [
      "Training input shape :  (364, 48)\n",
      "Test input shape :  (57, 48)\n"
     ]
    }
   ],
   "source": [
    "x_train = create_sequences(df_training_values.values)\n",
    "x_test = create_sequences(df_testing_values.values)\n",
    "\n",
    "print(\"Training input shape : \", x_train.shape)\n",
    "print(\"Test input shape : \", x_test.shape)"
   ]
  },
  {
   "cell_type": "code",
   "execution_count": 18,
   "metadata": {},
   "outputs": [],
   "source": [
    "x_train_float = x_train.astype(np.float32).tolist()\n",
    "train_loader = [torch.tensor(s).unsqueeze(1).float() for s in x_train_float]\n",
    "\n",
    "x_test_float = x_test.astype(np.float32).tolist()\n",
    "test_loader = [torch.tensor(s).unsqueeze(1).float() for s in x_test_float]"
   ]
  },
  {
   "cell_type": "code",
   "execution_count": 19,
   "metadata": {},
   "outputs": [],
   "source": [
    "class Encoder(nn.Module):\n",
    "\n",
    "    def __init__(self, sequence_length, number_of_features, embedding_dimension = 64):\n",
    "        super(Encoder, self).__init__()\n",
    "\n",
    "        self.sequence_length = sequence_length\n",
    "        self.number_of_features = number_of_features\n",
    "\n",
    "        self.embedding_dimension = embedding_dimension\n",
    "        self.hidden_layer_dimension = 2 * embedding_dimension\n",
    "\n",
    "        self.lstm1 = nn.LSTM(input_size = self.number_of_features, hidden_size = self.hidden_layer_dimension, num_layers = 1, batch_first = True)\n",
    "\n",
    "        self.lstm2 = nn.LSTM(input_size = self.hidden_layer_dimension, hidden_size = self.embedding_dimension, num_layers = 1, batch_first = True)\n",
    "\n",
    "    def forward(self, x):\n",
    "        x = x.reshape((1, self.sequence_length, self.number_of_features))\n",
    "\n",
    "        x, (_,_) = self.lstm1(x)\n",
    "        x, (hidden_n,_) = self.lstm2(x)\n",
    "\n",
    "        return hidden_n.reshape((self.number_of_features, self.embedding_dimension))"
   ]
  },
  {
   "cell_type": "code",
   "execution_count": 27,
   "metadata": {},
   "outputs": [],
   "source": [
    "class Decoder(nn.Module):\n",
    "\n",
    "    def __init__(self, sequence_length, input_dimension = 64, number_of_features = 1):\n",
    "        super(Decoder, self).__init__()\n",
    "\n",
    "        self.sequence_length = sequence_length\n",
    "        self.number_of_features = number_of_features\n",
    "\n",
    "        self.input_dimension = input_dimension\n",
    "        self.hidden_layer_dimension = 2 * input_dimension\n",
    "\n",
    "        self.lstm1 = nn.LSTM(input_size = self.input_dimension, hidden_size = self.input_dimension, num_layers = 1, batch_first = True)\n",
    "\n",
    "        self.lstm2 = nn.LSTM(input_size = self.input_dimension, hidden_size = self.hidden_layer_dimension, num_layers = 1, batch_first = True)\n",
    "\n",
    "        self.output_layer = nn.Linear(self.hidden_layer_dimension, self.number_of_features)\n",
    "\n",
    "    def forward(self, x):\n",
    "        x = x.repeat(self.sequence_length, self.number_of_features)\n",
    "        x = x.reshape((self.number_of_features, self.sequence_length, self.input_dimension))\n",
    "\n",
    "        x, (hidden_n,cell_n) = self.lstm1(x)\n",
    "        x, (hidden_n,cell_n ) = self.lstm2(x)\n",
    "        x = x.reshape((self.sequence_length, self.hidden_layer_dimension))\n",
    "\n",
    "        return self.output_layer(x)"
   ]
  },
  {
   "cell_type": "code",
   "execution_count": 28,
   "metadata": {},
   "outputs": [],
   "source": [
    "class AutoEncoder(nn.Module):\n",
    "\n",
    "    def __init__(self, sequence_length, number_of_features, embedding_dimension = 64):\n",
    "        super(AutoEncoder, self).__init__()\n",
    "\n",
    "        self.encoder = Encoder(sequence_length, number_of_features, embedding_dimension).to(device)\n",
    "        self.decoder = Decoder(sequence_length, embedding_dimension, number_of_features).to(device)\n",
    "\n",
    "    def forward(self, x):\n",
    "        x = self.encoder(x)\n",
    "        x = self.decoder(x)\n",
    "\n",
    "        return x"
   ]
  },
  {
   "cell_type": "code",
   "execution_count": 29,
   "metadata": {},
   "outputs": [
    {
     "name": "stdout",
     "output_type": "stream",
     "text": [
      "AutoEncoder(\n",
      "  (encoder): Encoder(\n",
      "    (lstm1): LSTM(1, 16, batch_first=True)\n",
      "    (lstm2): LSTM(16, 8, batch_first=True)\n",
      "  )\n",
      "  (decoder): Decoder(\n",
      "    (lstm1): LSTM(8, 8, batch_first=True)\n",
      "    (lstm2): LSTM(8, 16, batch_first=True)\n",
      "    (output_layer): Linear(in_features=16, out_features=1, bias=True)\n",
      "  )\n",
      ")\n"
     ]
    }
   ],
   "source": [
    "model = AutoEncoder(48,1,8).to(device)\n",
    "print(model)"
   ]
  },
  {
   "cell_type": "code",
   "execution_count": 42,
   "metadata": {},
   "outputs": [],
   "source": [
    "epochs = 1000\n",
    "lr = 1e-3\n",
    "batch_size = 64\n"
   ]
  },
  {
   "cell_type": "code",
   "execution_count": 32,
   "metadata": {},
   "outputs": [],
   "source": [
    "criterion = nn.MSELoss()\n",
    "optimizer = optim.Adam(model.parameters(), lr = lr)"
   ]
  },
  {
   "cell_type": "code",
   "execution_count": 38,
   "metadata": {},
   "outputs": [],
   "source": [
    "def training():\n",
    "    training_loss = []\n",
    "    for epoch in range(epochs):\n",
    "        running_loss = 0.0\n",
    "\n",
    "        for data in train_loader:\n",
    "            data = data.to(device)\n",
    "            optimizer.zero_grad()\n",
    "            outputs = model(data)\n",
    "            loss = criterion(outputs, data)\n",
    "            loss.backward()\n",
    "            optimizer.step()\n",
    "\n",
    "            running_loss += loss.item()\n",
    "\n",
    "        loss = running_loss / len(train_loader)\n",
    "        training_loss.append(loss)\n",
    "        print(\"Epoch {} of {}, Train Loss: {:.3f}\".format(epoch+1, epochs, loss))\n",
    "\n",
    "    return train_loss"
   ]
  },
  {
   "cell_type": "code",
   "execution_count": 43,
   "metadata": {},
   "outputs": [
    {
     "name": "stdout",
     "output_type": "stream",
     "text": [
      "Epoch 1 of 100, Train Loss: 0.389\n",
      "Epoch 2 of 100, Train Loss: 0.381\n",
      "Epoch 3 of 100, Train Loss: 0.375\n",
      "Epoch 4 of 100, Train Loss: 0.373\n",
      "Epoch 5 of 100, Train Loss: 0.386\n",
      "Epoch 6 of 100, Train Loss: 0.379\n",
      "Epoch 7 of 100, Train Loss: 0.374\n",
      "Epoch 8 of 100, Train Loss: 0.389\n",
      "Epoch 9 of 100, Train Loss: 0.377\n",
      "Epoch 10 of 100, Train Loss: 0.394\n",
      "Epoch 11 of 100, Train Loss: 0.391\n",
      "Epoch 12 of 100, Train Loss: 0.379\n",
      "Epoch 13 of 100, Train Loss: 0.408\n",
      "Epoch 14 of 100, Train Loss: 0.391\n",
      "Epoch 15 of 100, Train Loss: 0.373\n",
      "Epoch 16 of 100, Train Loss: 0.367\n",
      "Epoch 17 of 100, Train Loss: 0.372\n",
      "Epoch 18 of 100, Train Loss: 0.381\n",
      "Epoch 19 of 100, Train Loss: 0.374\n",
      "Epoch 20 of 100, Train Loss: 0.418\n",
      "Epoch 21 of 100, Train Loss: 0.381\n",
      "Epoch 22 of 100, Train Loss: 0.393\n",
      "Epoch 23 of 100, Train Loss: 0.381\n",
      "Epoch 24 of 100, Train Loss: 0.372\n",
      "Epoch 25 of 100, Train Loss: 0.380\n",
      "Epoch 26 of 100, Train Loss: 0.359\n",
      "Epoch 27 of 100, Train Loss: 0.381\n",
      "Epoch 28 of 100, Train Loss: 0.372\n",
      "Epoch 29 of 100, Train Loss: 0.395\n",
      "Epoch 30 of 100, Train Loss: 0.380\n",
      "Epoch 31 of 100, Train Loss: 0.368\n",
      "Epoch 32 of 100, Train Loss: 0.369\n",
      "Epoch 33 of 100, Train Loss: 0.360\n",
      "Epoch 34 of 100, Train Loss: 0.374\n",
      "Epoch 35 of 100, Train Loss: 0.392\n",
      "Epoch 36 of 100, Train Loss: 0.370\n",
      "Epoch 37 of 100, Train Loss: 0.367\n",
      "Epoch 38 of 100, Train Loss: 0.367\n",
      "Epoch 39 of 100, Train Loss: 0.355\n",
      "Epoch 40 of 100, Train Loss: 0.399\n",
      "Epoch 41 of 100, Train Loss: 0.381\n",
      "Epoch 42 of 100, Train Loss: 0.397\n",
      "Epoch 43 of 100, Train Loss: 0.376\n",
      "Epoch 44 of 100, Train Loss: 0.377\n",
      "Epoch 45 of 100, Train Loss: 0.360\n",
      "Epoch 46 of 100, Train Loss: 0.352\n",
      "Epoch 47 of 100, Train Loss: 0.354\n",
      "Epoch 48 of 100, Train Loss: 0.369\n",
      "Epoch 49 of 100, Train Loss: 0.376\n",
      "Epoch 50 of 100, Train Loss: 0.377\n",
      "Epoch 51 of 100, Train Loss: 0.341\n",
      "Epoch 52 of 100, Train Loss: 0.371\n",
      "Epoch 53 of 100, Train Loss: 0.381\n",
      "Epoch 54 of 100, Train Loss: 0.369\n",
      "Epoch 55 of 100, Train Loss: 0.381\n",
      "Epoch 56 of 100, Train Loss: 0.386\n",
      "Epoch 57 of 100, Train Loss: 0.350\n",
      "Epoch 58 of 100, Train Loss: 0.365\n",
      "Epoch 59 of 100, Train Loss: 0.362\n",
      "Epoch 60 of 100, Train Loss: 0.361\n",
      "Epoch 61 of 100, Train Loss: 0.360\n",
      "Epoch 62 of 100, Train Loss: 0.360\n",
      "Epoch 63 of 100, Train Loss: 0.361\n",
      "Epoch 64 of 100, Train Loss: 0.377\n",
      "Epoch 65 of 100, Train Loss: 0.348\n",
      "Epoch 66 of 100, Train Loss: 0.336\n",
      "Epoch 67 of 100, Train Loss: 0.355\n",
      "Epoch 68 of 100, Train Loss: 0.362\n",
      "Epoch 69 of 100, Train Loss: 0.383\n",
      "Epoch 70 of 100, Train Loss: 0.361\n",
      "Epoch 71 of 100, Train Loss: 0.363\n",
      "Epoch 72 of 100, Train Loss: 0.373\n",
      "Epoch 73 of 100, Train Loss: 0.368\n",
      "Epoch 74 of 100, Train Loss: 0.376\n",
      "Epoch 75 of 100, Train Loss: 0.344\n",
      "Epoch 76 of 100, Train Loss: 0.347\n",
      "Epoch 77 of 100, Train Loss: 0.338\n",
      "Epoch 78 of 100, Train Loss: 0.374\n",
      "Epoch 79 of 100, Train Loss: 0.373\n",
      "Epoch 80 of 100, Train Loss: 0.352\n",
      "Epoch 81 of 100, Train Loss: 0.342\n",
      "Epoch 82 of 100, Train Loss: 0.346\n",
      "Epoch 83 of 100, Train Loss: 0.339\n",
      "Epoch 84 of 100, Train Loss: 0.345\n",
      "Epoch 85 of 100, Train Loss: 0.339\n",
      "Epoch 86 of 100, Train Loss: 0.411\n",
      "Epoch 87 of 100, Train Loss: 0.364\n",
      "Epoch 88 of 100, Train Loss: 0.359\n",
      "Epoch 89 of 100, Train Loss: 0.379\n",
      "Epoch 90 of 100, Train Loss: 0.364\n",
      "Epoch 91 of 100, Train Loss: 0.353\n",
      "Epoch 92 of 100, Train Loss: 0.352\n",
      "Epoch 93 of 100, Train Loss: 0.344\n",
      "Epoch 94 of 100, Train Loss: 0.346\n",
      "Epoch 95 of 100, Train Loss: 0.333\n",
      "Epoch 96 of 100, Train Loss: 0.336\n",
      "Epoch 97 of 100, Train Loss: 0.340\n",
      "Epoch 98 of 100, Train Loss: 0.350\n",
      "Epoch 99 of 100, Train Loss: 0.361\n",
      "Epoch 100 of 100, Train Loss: 0.340\n"
     ]
    }
   ],
   "source": [
    "train_loss = training()"
   ]
  },
  {
   "cell_type": "code",
   "execution_count": 46,
   "metadata": {},
   "outputs": [],
   "source": [
    "plt.figure()\n",
    "plt.plot(train_loss)\n",
    "plt.xlabel(\"Epochs\")\n",
    "plt.ylabel(\"Loss\")"
   ]
  },
  {
   "cell_type": "code",
   "execution_count": 49,
   "metadata": {},
   "outputs": [],
   "source": [
    "def predict(model, dataset):\n",
    "    predictiones, losses = [], []\n",
    "    with torch.no_grad():\n",
    "        model = model.eval()\n",
    "        for seq_true in dataset:\n",
    "            seq_true = seq_true.to(device)\n",
    "            seq_pred = model(seq_true)\n",
    "\n",
    "            loss = criterion(seq_pred, seq_true)\n",
    "\n",
    "            predictiones.append(seq_pred.cpu().numpy().flatten())\n",
    "\n",
    "            losses.append(loss.item())\n",
    "\n",
    "    return predictiones, losses"
   ]
  },
  {
   "cell_type": "code",
   "execution_count": 58,
   "metadata": {},
   "outputs": [],
   "source": [
    "x_test_pred, _ = predict(model, test_loader)"
   ]
  },
  {
   "cell_type": "code",
   "execution_count": 70,
   "metadata": {},
   "outputs": [
    {
     "data": {
      "image/png": "[encoded data removed]",
      "text/plain": [
       "<Figure size 3600x720 with 1 Axes>"
      ]
     },
     "metadata": {
      "needs_background": "light"
     },
     "output_type": "display_data"
    }
   ],
   "source": [
    "plt.figure(figsize=(50,10))\n",
    "plt.plot(x_test[5], label='Actual')\n",
    "plt.plot(x_test_pred[5], label=\"Predicted\")\n",
    "plt.legend(loc='upper right')\n",
    "plt.show()"
   ]
  },
  {
   "cell_type": "code",
   "execution_count": null,
   "metadata": {},
   "outputs": [],
   "source": []
  }
 ],
 "metadata": {
  "interpreter": {
   "hash": "fe1fbfa14f7916735696a9322e667a237902258ca1fb6b99eeb22f79e9159140"
  },
  "kernelspec": {
   "display_name": "Python 3.8.6 64-bit",
   "language": "python",
   "name": "python3"
  },
  "language_info": {
   "codemirror_mode": {
    "name": "ipython",
    "version": 3
   },
   "file_extension": ".py",
   "mimetype": "text/x-python",
   "name": "python",
   "nbconvert_exporter": "python",
   "pygments_lexer": "ipython3",
   "version": "3.8.6"
  },
  "orig_nbformat": 4
 },
 "nbformat": 4,
 "nbformat_minor": 2
}
